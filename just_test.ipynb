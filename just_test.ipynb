{
 "cells": [
  {
   "cell_type": "code",
   "id": "initial_id",
   "metadata": {
    "collapsed": true,
    "ExecuteTime": {
     "end_time": "2025-04-15T16:21:27.580841Z",
     "start_time": "2025-04-15T16:21:27.507318Z"
    }
   },
   "source": [
    "from graphics_plotter import *\n",
    "from output import *\n",
    "from lrs import *\n",
    "from linear_algo import golden_ratio, dichotomy\n",
    "from gradient_descent import *\n",
    "from newton import *\n",
    "\n",
    "def clearAll(f, g, h):\n",
    "    f.clear()\n",
    "    g.clear()\n",
    "    h.clear()\n",
    "\n",
    "# тестирование ф-ии из библиотеки scipy.optimize\n",
    "func = FunctionWrapper(lambda x: 6 * x[0] ** 2 + 4 * x[1] * x[1] - 3 * x[1] )\n",
    "\n",
    "options = {'maxiter': 100}\n",
    "x0 = [-6.0, 12.0]\n",
    "max_steps = 10000\n",
    "\n",
    "grad = FunctionWrapper(lambda x: gradient(func, x, 1e-4))\n",
    "hes = FunctionWrapper(lambda x: hessian(func, x, 1e-4))\n",
    "\n",
    "\n",
    "optimize_CG = SimpyWrapper(func, [[-6.0, 12.0]], 0.001)\n",
    "\n",
    "# Newton-CG (метод Ньютона с сопряжёнными градиентами)\n",
    "# Точный метод Ньютона.\tОн использует гессиан <- который мы его и передаем. (наш, написанный) + Градиент передаем.\n",
    "resNewtone = optimize_CG.find_min('Newton-CG', x0, max_steps, gradient=grad, hessian=hes)\n",
    "pretty_print(optimize_CG, 'Newton-CG', resNewtone, grad, hes)\n",
    "\n",
    "\n",
    "# BFGS\t- Квазиньютоновский. Он как то аппроксимирует гессиан, не требует его явного вычисления. -> передаем только градиент\n",
    "# думаю разобраться в его коде - и можно использовать в доп задании\n",
    "\n",
    "clearAll(func, grad, hes)\n",
    "resBFGS = optimize_CG.find_min('BFGS', x0, max_steps, gradient=grad)\n",
    "pretty_print(optimize_CG, 'BFGS', resBFGS, grad, hes)\n",
    "\n",
    "\n",
    "\n"
   ],
   "outputs": [
    {
     "ename": "ModuleNotFoundError",
     "evalue": "No module named 'graphics_plotter'",
     "output_type": "error",
     "traceback": [
      "\u001B[31m---------------------------------------------------------------------------\u001B[39m",
      "\u001B[31mModuleNotFoundError\u001B[39m                       Traceback (most recent call last)",
      "\u001B[36mCell\u001B[39m\u001B[36m \u001B[39m\u001B[32mIn[2]\u001B[39m\u001B[32m, line 1\u001B[39m\n\u001B[32m----> \u001B[39m\u001B[32m1\u001B[39m \u001B[38;5;28;01mfrom\u001B[39;00m\u001B[38;5;250m \u001B[39m\u001B[34;01mgraphics_plotter\u001B[39;00m\u001B[38;5;250m \u001B[39m\u001B[38;5;28;01mimport\u001B[39;00m *\n\u001B[32m      2\u001B[39m \u001B[38;5;28;01mfrom\u001B[39;00m\u001B[38;5;250m \u001B[39m\u001B[34;01moutput\u001B[39;00m\u001B[38;5;250m \u001B[39m\u001B[38;5;28;01mimport\u001B[39;00m *\n\u001B[32m      3\u001B[39m \u001B[38;5;28;01mfrom\u001B[39;00m\u001B[38;5;250m \u001B[39m\u001B[34;01mlrs\u001B[39;00m\u001B[38;5;250m \u001B[39m\u001B[38;5;28;01mimport\u001B[39;00m *\n",
      "\u001B[31mModuleNotFoundError\u001B[39m: No module named 'graphics_plotter'"
     ]
    }
   ],
   "execution_count": 2
  },
  {
   "metadata": {},
   "cell_type": "code",
   "outputs": [],
   "execution_count": null,
   "source": "",
   "id": "afeeea76a36bc79b"
  }
 ],
 "metadata": {
  "kernelspec": {
   "display_name": "Python 3",
   "language": "python",
   "name": "python3"
  },
  "language_info": {
   "codemirror_mode": {
    "name": "ipython",
    "version": 2
   },
   "file_extension": ".py",
   "mimetype": "text/x-python",
   "name": "python",
   "nbconvert_exporter": "python",
   "pygments_lexer": "ipython2",
   "version": "2.7.6"
  }
 },
 "nbformat": 4,
 "nbformat_minor": 5
}
